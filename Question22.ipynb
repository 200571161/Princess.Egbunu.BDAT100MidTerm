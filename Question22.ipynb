{
 "cells": [
  {
   "cell_type": "markdown",
   "id": "80d76452-8820-4e33-b0ce-943899914c40",
   "metadata": {},
   "source": [
    "**Question 22**\n",
    "\n",
    "+---------------+---------+ | Column Name | Type | +---------------+---------+ | id | int | | recordDate | date | | temperature | int | +---------------+---------+\n",
    "\n",
    "id is the column with unique values for this table. This table contains information about the temperature on a certain day.\n",
    "\n",
    "Write a solution to find all dates' Id with higher temperatures compared to its previous dates (yesterday).\n",
    "\n",
    "Return the result table in any order.\n",
    "\n",
    "Please use the following input Weather table for your solution. To receive full marks you will need to create the database, create the table, insert the data below, and execute the SQL query.\n",
    "\n",
    "Input: Weather table:\n",
    "\n",
    "+----+------------+-------------+ | id | recordDate | temperature | +----+------------+-------------+ | 1 | 2015-01-01 | 10 | | 2 | 2015-01-02 | 25 | | 3 | 2015-01-03 | 20 | | 4\n",
    "\n",
    "| 2015-01-04 | 30 | +----+------------+-------------+\n",
    "\n",
    "\n",
    "Output: +----+ | id | +----+ | 2 | | 4 | +----+\n",
    "\n",
    "Explanation: In 2015-01-02, the temperature was higher than the previous day (10 -> 25). In 2015-01-04, the temperature was higher than the previous day (20 -> 30)."
   ]
  },
  {
   "cell_type": "code",
   "execution_count": 20,
   "id": "eb56b2c0-1a33-4873-b888-51353d0d5af5",
   "metadata": {
    "scrolled": true
   },
   "outputs": [
    {
     "name": "stdout",
     "output_type": "stream",
     "text": [
      "(2,)\n",
      "(4,)\n"
     ]
    }
   ],
   "source": [
    "import sqlite3\n",
    "\n",
    "conn = sqlite3.connect('weather_table_midterm.db')\n",
    "get_database = conn.cursor()\n",
    "\n",
    "# Drop the existing table if it exists\n",
    "get_database.execute('DROP TABLE IF EXISTS Weather_table')\n",
    "\n",
    "create_table_query = '''\n",
    "CREATE TABLE Weather_table (\n",
    "    id INT PRIMARY KEY,\n",
    "    recordDate DATE,\n",
    "    temperature INT\n",
    ");\n",
    "'''\n",
    "\n",
    "insert_queries = [\n",
    "    \"INSERT INTO Weather_table VALUES (1, '2015-01-01', 10);\",\n",
    "    \"INSERT INTO Weather_table VALUES (2, '2015-01-02', 25);\",\n",
    "    \"INSERT INTO Weather_table VALUES (3, '2015-01-03', 20);\",\n",
    "    \"INSERT INTO Weather_table VALUES (4, '2015-01-04', 30);\",\n",
    "]\n",
    "\n",
    "select_query = '''\n",
    "SELECT t1.id\n",
    "FROM Weather_table t1\n",
    "JOIN Weather_table t2 ON t1.id = t2.id + 1\n",
    "WHERE t1.temperature > t2.temperature;\n",
    "'''\n",
    "\n",
    "get_database.executescript(create_table_query)\n",
    "\n",
    "for insert_query in insert_queries:\n",
    "    get_database.execute(insert_query)\n",
    "\n",
    "get_database.execute(select_query)\n",
    "get_results = get_database.fetchall()\n",
    "\n",
    "for row in get_results:\n",
    "    print(row)\n",
    "\n",
    "conn.commit()\n",
    "conn.close()\n"
   ]
  },
  {
   "cell_type": "code",
   "execution_count": null,
   "id": "5e61650f-6650-49e0-8aab-59fbb4236c8f",
   "metadata": {},
   "outputs": [],
   "source": []
  }
 ],
 "metadata": {
  "kernelspec": {
   "display_name": "Python 3 (ipykernel)",
   "language": "python",
   "name": "python3"
  },
  "language_info": {
   "codemirror_mode": {
    "name": "ipython",
    "version": 3
   },
   "file_extension": ".py",
   "mimetype": "text/x-python",
   "name": "python",
   "nbconvert_exporter": "python",
   "pygments_lexer": "ipython3",
   "version": "3.11.5"
  }
 },
 "nbformat": 4,
 "nbformat_minor": 5
}
